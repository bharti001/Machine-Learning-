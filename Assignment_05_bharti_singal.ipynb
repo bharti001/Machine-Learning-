{
  "nbformat": 4,
  "nbformat_minor": 0,
  "metadata": {
    "colab": {
      "provenance": [],
      "authorship_tag": "ABX9TyPE4nh1rfOBmi+mQoBUs6lV",
      "include_colab_link": true
    },
    "kernelspec": {
      "name": "python3",
      "display_name": "Python 3"
    },
    "language_info": {
      "name": "python"
    }
  },
  "cells": [
    {
      "cell_type": "markdown",
      "metadata": {
        "id": "view-in-github",
        "colab_type": "text"
      },
      "source": [
        "<a href=\"https://colab.research.google.com/github/bharti001/Machine-Learning-/blob/main/Assignment_05_bharti_singal.ipynb\" target=\"_parent\"><img src=\"https://colab.research.google.com/assets/colab-badge.svg\" alt=\"Open In Colab\"/></a>"
      ]
    },
    {
      "cell_type": "markdown",
      "metadata": {
        "id": "020dbb6a"
      },
      "source": [
        "### ***Practice Displaying***\n",
        "\n",
        "Practiced to display arrays and read shapes and see sample images\n"
      ]
    },
    {
      "cell_type": "code",
      "metadata": {
        "colab": {
          "base_uri": "https://localhost:8080/",
          "height": 1000
        },
        "id": "a0210e9b",
        "outputId": "e689ed4c-6bd7-47ea-bf6e-2bd0af1d69c9"
      },
      "source": [
        "import tensorflow as tf\n",
        "from tensorflow.keras.datasets import mnist, fashion_mnist\n",
        "import numpy as np\n",
        "import matplotlib.pyplot as plt\n",
        "\n",
        "# Assuming dataset_output contains the output from mnist.load_data()\n",
        "# Unpack the nested tuple\n",
        "dataset_output = mnist.load_data() # Define dataset_output here\n",
        "(mnist_train_images, mnist_train_labels), (mnist_test_images, mnist_test_labels) = dataset_output\n",
        "\n",
        "print(\"Summary of the MNIST dataset arrays:\")\n",
        "\n",
        "print(\"\\nTraining Images:\")\n",
        "print(f\"  What it is: The images used for training the model.\")\n",
        "print(f\"  Comprised of: A NumPy array with shape {mnist_train_images.shape} and data type {mnist_train_images.dtype}.\")\n",
        "print(f\"  Shape breakdown: {mnist_train_images.shape[0]} images, each of size {mnist_train_images.shape[1]}x{mnist_train_images.shape[2]} pixels.\")\n",
        "# Display a sample training image\n",
        "plt.figure()\n",
        "plt.imshow(mnist_train_images[0], cmap=plt.cm.binary)\n",
        "plt.title(f\"Sample Training Image (Label: {mnist_train_labels[0]})\")\n",
        "plt.axis('off')\n",
        "plt.show()\n",
        "\n",
        "print(\"\\nTraining Labels:\")\n",
        "print(f\"  What it is: The labels corresponding to the training images.\")\n",
        "print(f\"  Comprised of: A NumPy array with shape {mnist_train_labels.shape} and data type {mnist_train_labels.dtype}.\")\n",
        "print(f\"  Shape breakdown: {mnist_train_labels.shape[0]} labels, corresponding to each training image.\")\n",
        "print(f\"Maximum pixel value in training images: {mnist_train_images.max()}\")\n",
        "\n",
        "print(\"\\nTest Images:\")\n",
        "print(f\"  What it is: The images used for evaluating the trained model.\")\n",
        "print(f\"  Comprised of: A NumPy array with shape {mnist_test_images.shape} and data type {mnist_test_images.dtype}.\")\n",
        "print(f\"  Shape breakdown: {mnist_test_images.shape[0]} images, each of size {mnist_test_images.shape[1]}x{mnist_test_images.shape[2]} pixels.\")\n",
        "\n",
        "# Display a sample test image\n",
        "plt.figure()\n",
        "plt.imshow(mnist_test_images[0], cmap=plt.cm.binary)\n",
        "plt.title(f\"Sample Test Image (Label: {mnist_test_labels[0]})\")\n",
        "plt.axis('off')\n",
        "plt.show()\n",
        "\n",
        "print(\"\\nTest Labels:\")\n",
        "print(f\"  What it is: The labels corresponding to the test images.\")\n",
        "print(f\"  Comprised of: A NumPy array with shape {mnist_test_labels.shape} and data type {mnist_test_labels.dtype}.\")\n",
        "print(f\"  Shape breakdown: {mnist_test_labels.shape[0]} labels, corresponding to each test image.\")\n",
        "print(f\"Maximum pixel value in test images: {mnist_test_images.max()}\")"
      ],
      "execution_count": 1,
      "outputs": [
        {
          "output_type": "stream",
          "name": "stdout",
          "text": [
            "Downloading data from https://storage.googleapis.com/tensorflow/tf-keras-datasets/mnist.npz\n",
            "\u001b[1m11490434/11490434\u001b[0m \u001b[32m━━━━━━━━━━━━━━━━━━━━\u001b[0m\u001b[37m\u001b[0m \u001b[1m0s\u001b[0m 0us/step\n",
            "Summary of the MNIST dataset arrays:\n",
            "\n",
            "Training Images:\n",
            "  What it is: The images used for training the model.\n",
            "  Comprised of: A NumPy array with shape (60000, 28, 28) and data type uint8.\n",
            "  Shape breakdown: 60000 images, each of size 28x28 pixels.\n"
          ]
        },
        {
          "output_type": "display_data",
          "data": {
            "text/plain": [
              "<Figure size 640x480 with 1 Axes>"
            ],
            "image/png": "[encoded data removed]"
          },
          "metadata": {}
        },
        {
          "output_type": "stream",
          "name": "stdout",
          "text": [
            "\n",
            "Training Labels:\n",
            "  What it is: The labels corresponding to the training images.\n",
            "  Comprised of: A NumPy array with shape (60000,) and data type uint8.\n",
            "  Shape breakdown: 60000 labels, corresponding to each training image.\n",
            "Maximum pixel value in training images: 255\n",
            "\n",
            "Test Images:\n",
            "  What it is: The images used for evaluating the trained model.\n",
            "  Comprised of: A NumPy array with shape (10000, 28, 28) and data type uint8.\n",
            "  Shape breakdown: 10000 images, each of size 28x28 pixels.\n"
          ]
        },
        {
          "output_type": "display_data",
          "data": {
            "text/plain": [
              "<Figure size 640x480 with 1 Axes>"
            ],
            "image/png": "[encoded data removed]"
          },
          "metadata": {}
        },
        {
          "output_type": "stream",
          "name": "stdout",
          "text": [
            "\n",
            "Test Labels:\n",
            "  What it is: The labels corresponding to the test images.\n",
            "  Comprised of: A NumPy array with shape (10000,) and data type uint8.\n",
            "  Shape breakdown: 10000 labels, corresponding to each test image.\n",
            "Maximum pixel value in test images: 255\n"
          ]
        }
      ]
    },
    {
      "cell_type": "markdown",
      "source": [
        "### Part 1: Load and Prepare the Data (Both Datasets)\n",
        "\n",
        "Load and prepare the MNIST and Fashion MNIST datasets.\n",
        "1. Load the dataset using Keras.\n",
        "2. Normalize image pixel values to the range [0, 1].\n",
        "3. Shuffle the training data.\n",
        "4. Display the first image and its label for each dataset."
      ],
      "metadata": {
        "id": "hErrRBo9rZRl"
      }
    },
    {
      "cell_type": "code",
      "metadata": {
        "colab": {
          "base_uri": "https://localhost:8080/",
          "height": 978
        },
        "id": "36e2fe37",
        "outputId": "6609f5ec-0fc9-44c2-c462-cafc97023489"
      },
      "source": [
        "import tensorflow as tf\n",
        "from tensorflow.keras.datasets import mnist, fashion_mnist\n",
        "import numpy as np\n",
        "import matplotlib.pyplot as plt\n",
        "\n",
        "# Load MNIST dataset\n",
        "(mnist_train_images, mnist_train_labels), (mnist_test_images, mnist_test_labels) = mnist.load_data()\n",
        "\n",
        "# Load Fashion MNIST dataset\n",
        "(fashion_mnist_train_images, fashion_mnist_train_labels), (fashion_mnist_test_images, fashion_mnist_test_labels) = fashion_mnist.load_data()\n",
        "\n",
        "# Normalize images\n",
        "mnist_train_images = mnist_train_images / 255.0\n",
        "mnist_test_images = mnist_test_images / 255.0\n",
        "fashion_mnist_train_images = fashion_mnist_train_images / 255.0\n",
        "fashion_mnist_test_images = fashion_mnist_test_images / 255.0\n",
        "\n",
        "# Shuffle training data (MNIST)\n",
        "shuffle_indices_mnist = np.random.permutation(len(mnist_train_images))\n",
        "mnist_train_images = mnist_train_images[shuffle_indices_mnist]\n",
        "mnist_train_labels = mnist_train_labels[shuffle_indices_mnist]\n",
        "\n",
        "# Shuffle training data (Fashion MNIST)\n",
        "shuffle_indices_fashion_mnist = np.random.permutation(len(fashion_mnist_train_images))\n",
        "fashion_mnist_train_images = fashion_mnist_train_images[shuffle_indices_fashion_mnist]\n",
        "fashion_mnist_train_labels = fashion_mnist_train_labels[shuffle_indices_fashion_mnist]\n",
        "\n",
        "\n",
        "# Display the first image and its label for MNIST (here I tried plotting without specifying binary color)\n",
        "plt.figure()\n",
        "plt.imshow(mnist_train_images[0])\n",
        "plt.title(f\"MNIST Label: {mnist_train_labels[0]}\")\n",
        "plt.axis('off')\n",
        "plt.show()\n",
        "\n",
        "# Display the first image and its label for Fashion MNIST (in this, I tried binary color)\n",
        "plt.figure()\n",
        "plt.imshow(fashion_mnist_train_images[0], cmap=plt.cm.binary)\n",
        "plt.title(f\"Fashion MNIST Label: {fashion_mnist_train_labels[0]}\")\n",
        "plt.axis('off')\n",
        "plt.show()"
      ],
      "execution_count": 2,
      "outputs": [
        {
          "output_type": "stream",
          "name": "stdout",
          "text": [
            "Downloading data from https://storage.googleapis.com/tensorflow/tf-keras-datasets/train-labels-idx1-ubyte.gz\n",
            "\u001b[1m29515/29515\u001b[0m \u001b[32m━━━━━━━━━━━━━━━━━━━━\u001b[0m\u001b[37m\u001b[0m \u001b[1m0s\u001b[0m 0us/step\n",
            "Downloading data from https://storage.googleapis.com/tensorflow/tf-keras-datasets/train-images-idx3-ubyte.gz\n",
            "\u001b[1m26421880/26421880\u001b[0m \u001b[32m━━━━━━━━━━━━━━━━━━━━\u001b[0m\u001b[37m\u001b[0m \u001b[1m0s\u001b[0m 0us/step\n",
            "Downloading data from https://storage.googleapis.com/tensorflow/tf-keras-datasets/t10k-labels-idx1-ubyte.gz\n",
            "\u001b[1m5148/5148\u001b[0m \u001b[32m━━━━━━━━━━━━━━━━━━━━\u001b[0m\u001b[37m\u001b[0m \u001b[1m0s\u001b[0m 0us/step\n",
            "Downloading data from https://storage.googleapis.com/tensorflow/tf-keras-datasets/t10k-images-idx3-ubyte.gz\n",
            "\u001b[1m4422102/4422102\u001b[0m \u001b[32m━━━━━━━━━━━━━━━━━━━━\u001b[0m\u001b[37m\u001b[0m \u001b[1m0s\u001b[0m 0us/step\n"
          ]
        },
        {
          "output_type": "display_data",
          "data": {
            "text/plain": [
              "<Figure size 640x480 with 1 Axes>"
            ],
            "image/png": "[encoded data removed]"
          },
          "metadata": {}
        },
        {
          "output_type": "display_data",
          "data": {
            "text/plain": [
              "<Figure size 640x480 with 1 Axes>"
            ],
            "image/png": "[encoded data removed]"
          },
          "metadata": {}
        }
      ]
    },
    {
      "cell_type": "markdown",
      "metadata": {
        "id": "fb61ff49"
      },
      "source": [
        "### Part 2: Build the model\n",
        "\n",
        "Implement a function build_simple_model() that builds a neural network with:\n",
        "\n",
        "a. One hidden layer of neurons (default 64 neurons)\n",
        "\n",
        "b. Activation function for the hidden layer (default 'relu')\n",
        "\n",
        "c. Output layer with 10 neurons and softmax activation\n",
        "\n",
        "Use appropriate loss function and optimizer."
      ]
    },
    {
      "cell_type": "code",
      "metadata": {
        "id": "6316abd7"
      },
      "source": [
        "from tensorflow.keras.models import Sequential\n",
        "from tensorflow.keras.layers import Flatten, Dense\n",
        "\n",
        "def build_simple_model(hidden_layer_neurons=64, activation='relu'):\n",
        "    model = Sequential([\n",
        "        Flatten(input_shape=(28, 28)),\n",
        "        Dense(hidden_layer_neurons, activation=activation),\n",
        "        Dense(10, activation='softmax')\n",
        "    ])\n",
        "\n",
        "    model.compile(optimizer='adam',\n",
        "                  loss='sparse_categorical_crossentropy',\n",
        "                  metrics=['accuracy'])\n",
        "    return model"
      ],
      "execution_count": 3,
      "outputs": []
    },
    {
      "cell_type": "markdown",
      "metadata": {
        "id": "8a620f3e"
      },
      "source": [
        "### Part 3: Train and Evaluate the Model (Both Datasets)\n",
        "\n",
        "For each dataset (MNIST and Fashion MNIST):\n",
        "1. Train the model for 5 epochs.\n",
        "2. Plot training accuracy over epochs.\n",
        "3. Evaluate and record test accuracy.\n"
      ]
    },
    {
      "cell_type": "code",
      "metadata": {
        "colab": {
          "base_uri": "https://localhost:8080/",
          "height": 1000
        },
        "id": "18a528d0",
        "outputId": "b47f0d51-cc93-4402-c950-698aacef513f"
      },
      "source": [
        "# Build and train model for MNIST\n",
        "mnist_model = build_simple_model()\n",
        "mnist_history = mnist_model.fit(mnist_train_images, mnist_train_labels, epochs=5, verbose=0)\n",
        "\n",
        "# Plot training accuracy for MNIST\n",
        "plt.plot(mnist_history.history['accuracy'])\n",
        "plt.title('MNIST Model Accuracy')\n",
        "plt.xlabel('Epoch')\n",
        "plt.ylabel('Accuracy')\n",
        "plt.show()\n",
        "\n",
        "# Evaluate MNIST model\n",
        "mnist_test_loss, mnist_test_acc = mnist_model.evaluate(mnist_test_images, mnist_test_labels, verbose=0)\n",
        "print(f'MNIST Test accuracy: {mnist_test_acc}')\n",
        "\n",
        "\n",
        "# Build and train model for Fashion MNIST\n",
        "fashion_mnist_model = build_simple_model()\n",
        "fashion_mnist_history = fashion_mnist_model.fit(fashion_mnist_train_images, fashion_mnist_train_labels, epochs=5, verbose=0)\n",
        "\n",
        "# Plot training accuracy for Fashion MNIST\n",
        "plt.plot(fashion_mnist_history.history['accuracy'])\n",
        "plt.title('Fashion MNIST Model Accuracy')\n",
        "plt.xlabel('Epoch')\n",
        "plt.ylabel('Accuracy')\n",
        "plt.show()\n",
        "\n",
        "# Evaluate Fashion MNIST model\n",
        "fashion_mnist_test_loss, fashion_mnist_test_acc = fashion_mnist_model.evaluate(fashion_mnist_test_images, fashion_mnist_test_labels, verbose=0)\n",
        "print(f'Fashion MNIST Test accuracy: {fashion_mnist_test_acc}')"
      ],
      "execution_count": 4,
      "outputs": [
        {
          "output_type": "stream",
          "name": "stderr",
          "text": [
            "/usr/local/lib/python3.12/dist-packages/keras/src/layers/reshaping/flatten.py:37: UserWarning: Do not pass an `input_shape`/`input_dim` argument to a layer. When using Sequential models, prefer using an `Input(shape)` object as the first layer in the model instead.\n",
            "  super().__init__(**kwargs)\n"
          ]
        },
        {
          "output_type": "display_data",
          "data": {
            "text/plain": [
              "<Figure size 640x480 with 1 Axes>"
            ],
            "image/png": "[encoded data removed]"
          },
          "metadata": {}
        },
        {
          "output_type": "stream",
          "name": "stdout",
          "text": [
            "MNIST Test accuracy: 0.9732999801635742\n"
          ]
        },
        {
          "output_type": "display_data",
          "data": {
            "text/plain": [
              "<Figure size 640x480 with 1 Axes>"
            ],
            "image/png": "[encoded data removed]"
          },
          "metadata": {}
        },
        {
          "output_type": "stream",
          "name": "stdout",
          "text": [
            "Fashion MNIST Test accuracy: 0.8500000238418579\n"
          ]
        }
      ]
    },
    {
      "cell_type": "markdown",
      "metadata": {
        "id": "1f93da0e"
      },
      "source": [
        "### Part 4: Experiment with Hyperparameters (Both Datasets)\n",
        "For each dataset, run experiments with the following configurations\n",
        "Hidden Units 64,128, 64 with Activation Function relu, relu and tanh respctively.\n",
        "Record the test accuracies in a table for both datasets."
      ]
    },
    {
      "cell_type": "code",
      "metadata": {
        "colab": {
          "base_uri": "https://localhost:8080/",
          "height": 542
        },
        "id": "f1a870f1",
        "outputId": "c75fd530-4a03-4d5b-e14e-f05458c9a03b"
      },
      "source": [
        "import pandas as pd\n",
        "\n",
        "results = {}\n",
        "\n",
        "for dataset_name, (train_images, train_labels, test_images, test_labels) in [\n",
        "    ('MNIST', (mnist_train_images, mnist_train_labels, mnist_test_images, mnist_test_labels)),\n",
        "    ('Fashion MNIST', (fashion_mnist_train_images, fashion_mnist_train_labels, fashion_mnist_test_images, fashion_mnist_test_labels))\n",
        "]:\n",
        "    results[dataset_name] = {}\n",
        "    for hidden_units in [64, 128]:\n",
        "        for activation in ['relu', 'tanh']:\n",
        "            print(f\"Training {dataset_name} with {hidden_units} hidden units and {activation} activation...\")\n",
        "            model = build_simple_model(hidden_layer_neurons=hidden_units, activation=activation)\n",
        "            model.fit(train_images, train_labels, epochs=5, verbose=0)\n",
        "            loss, acc = model.evaluate(test_images, test_labels, verbose=0)\n",
        "            results[dataset_name][f'{hidden_units} units, {activation}'] = acc\n",
        "            print(f\"Test accuracy: {acc}\\n\")\n",
        "\n",
        "# Create a table to display the results\n",
        "results_df = pd.DataFrame(results).T\n",
        "display(results_df)"
      ],
      "execution_count": 5,
      "outputs": [
        {
          "output_type": "stream",
          "name": "stdout",
          "text": [
            "Training MNIST with 64 hidden units and relu activation...\n",
            "Test accuracy: 0.9710999727249146\n",
            "\n",
            "Training MNIST with 64 hidden units and tanh activation...\n",
            "Test accuracy: 0.9668999910354614\n",
            "\n",
            "Training MNIST with 128 hidden units and relu activation...\n",
            "Test accuracy: 0.977400004863739\n",
            "\n",
            "Training MNIST with 128 hidden units and tanh activation...\n",
            "Test accuracy: 0.9771999716758728\n",
            "\n",
            "Training Fashion MNIST with 64 hidden units and relu activation...\n",
            "Test accuracy: 0.867900013923645\n",
            "\n",
            "Training Fashion MNIST with 64 hidden units and tanh activation...\n",
            "Test accuracy: 0.8707000017166138\n",
            "\n",
            "Training Fashion MNIST with 128 hidden units and relu activation...\n",
            "Test accuracy: 0.8812999725341797\n",
            "\n",
            "Training Fashion MNIST with 128 hidden units and tanh activation...\n",
            "Test accuracy: 0.8708999752998352\n",
            "\n"
          ]
        },
        {
          "output_type": "display_data",
          "data": {
            "text/plain": [
              "               64 units, relu  64 units, tanh  128 units, relu  \\\n",
              "MNIST                  0.9711          0.9669           0.9774   \n",
              "Fashion MNIST          0.8679          0.8707           0.8813   \n",
              "\n",
              "               128 units, tanh  \n",
              "MNIST                   0.9772  \n",
              "Fashion MNIST           0.8709  "
            ],
            "text/html": [
              "\n",
              "  <div id=\"df-76aaa96b-8b22-4de5-afe5-76433a3cd0ce\" class=\"colab-df-container\">\n",
              "    <div>\n",
              "<style scoped>\n",
              "    .dataframe tbody tr th:only-of-type {\n",
              "        vertical-align: middle;\n",
              "    }\n",
              "\n",
              "    .dataframe tbody tr th {\n",
              "        vertical-align: top;\n",
              "    }\n",
              "\n",
              "    .dataframe thead th {\n",
              "        text-align: right;\n",
              "    }\n",
              "</style>\n",
              "<table border=\"1\" class=\"dataframe\">\n",
              "  <thead>\n",
              "    <tr style=\"text-align: right;\">\n",
              "      <th></th>\n",
              "      <th>64 units, relu</th>\n",
              "      <th>64 units, tanh</th>\n",
              "      <th>128 units, relu</th>\n",
              "      <th>128 units, tanh</th>\n",
              "    </tr>\n",
              "  </thead>\n",
              "  <tbody>\n",
              "    <tr>\n",
              "      <th>MNIST</th>\n",
              "      <td>0.9711</td>\n",
              "      <td>0.9669</td>\n",
              "      <td>0.9774</td>\n",
              "      <td>0.9772</td>\n",
              "    </tr>\n",
              "    <tr>\n",
              "      <th>Fashion MNIST</th>\n",
              "      <td>0.8679</td>\n",
              "      <td>0.8707</td>\n",
              "      <td>0.8813</td>\n",
              "      <td>0.8709</td>\n",
              "    </tr>\n",
              "  </tbody>\n",
              "</table>\n",
              "</div>\n",
              "    <div class=\"colab-df-buttons\">\n",
              "\n",
              "  <div class=\"colab-df-container\">\n",
              "    <button class=\"colab-df-convert\" onclick=\"convertToInteractive('df-76aaa96b-8b22-4de5-afe5-76433a3cd0ce')\"\n",
              "            title=\"Convert this dataframe to an interactive table.\"\n",
              "            style=\"display:none;\">\n",
              "\n",
              "  <svg xmlns=\"http://www.w3.org/2000/svg\" height=\"24px\" viewBox=\"0 -960 960 960\">\n",
              "    <path d=\"M120-120v-720h720v720H120Zm60-500h600v-160H180v160Zm220 220h160v-160H400v160Zm0 220h160v-160H400v160ZM180-400h160v-160H180v160Zm440 0h160v-160H620v160ZM180-180h160v-160H180v160Zm440 0h160v-160H620v160Z\"/>\n",
              "  </svg>\n",
              "    </button>\n",
              "\n",
              "  <style>\n",
              "    .colab-df-container {\n",
              "      display:flex;\n",
              "      gap: 12px;\n",
              "    }\n",
              "\n",
              "    .colab-df-convert {\n",
              "      background-color: #E8F0FE;\n",
              "      border: none;\n",
              "      border-radius: 50%;\n",
              "      cursor: pointer;\n",
              "      display: none;\n",
              "      fill: #1967D2;\n",
              "      height: 32px;\n",
              "      padding: 0 0 0 0;\n",
              "      width: 32px;\n",
              "    }\n",
              "\n",
              "    .colab-df-convert:hover {\n",
              "      background-color: #E2EBFA;\n",
              "      box-shadow: 0px 1px 2px rgba(60, 64, 67, 0.3), 0px 1px 3px 1px rgba(60, 64, 67, 0.15);\n",
              "      fill: #174EA6;\n",
              "    }\n",
              "\n",
              "    .colab-df-buttons div {\n",
              "      margin-bottom: 4px;\n",
              "    }\n",
              "\n",
              "    [theme=dark] .colab-df-convert {\n",
              "      background-color: #3B4455;\n",
              "      fill: #D2E3FC;\n",
              "    }\n",
              "\n",
              "    [theme=dark] .colab-df-convert:hover {\n",
              "      background-color: #434B5C;\n",
              "      box-shadow: 0px 1px 3px 1px rgba(0, 0, 0, 0.15);\n",
              "      filter: drop-shadow(0px 1px 2px rgba(0, 0, 0, 0.3));\n",
              "      fill: #FFFFFF;\n",
              "    }\n",
              "  </style>\n",
              "\n",
              "    <script>\n",
              "      const buttonEl =\n",
              "        document.querySelector('#df-76aaa96b-8b22-4de5-afe5-76433a3cd0ce button.colab-df-convert');\n",
              "      buttonEl.style.display =\n",
              "        google.colab.kernel.accessAllowed ? 'block' : 'none';\n",
              "\n",
              "      async function convertToInteractive(key) {\n",
              "        const element = document.querySelector('#df-76aaa96b-8b22-4de5-afe5-76433a3cd0ce');\n",
              "        const dataTable =\n",
              "          await google.colab.kernel.invokeFunction('convertToInteractive',\n",
              "                                                    [key], {});\n",
              "        if (!dataTable) return;\n",
              "\n",
              "        const docLinkHtml = 'Like what you see? Visit the ' +\n",
              "          '<a target=\"_blank\" href=https://colab.research.google.com/notebooks/data_table.ipynb>data table notebook</a>'\n",
              "          + ' to learn more about interactive tables.';\n",
              "        element.innerHTML = '';\n",
              "        dataTable['output_type'] = 'display_data';\n",
              "        await google.colab.output.renderOutput(dataTable, element);\n",
              "        const docLink = document.createElement('div');\n",
              "        docLink.innerHTML = docLinkHtml;\n",
              "        element.appendChild(docLink);\n",
              "      }\n",
              "    </script>\n",
              "  </div>\n",
              "\n",
              "\n",
              "    <div id=\"df-58072882-7da4-403e-96aa-c0cdf594b845\">\n",
              "      <button class=\"colab-df-quickchart\" onclick=\"quickchart('df-58072882-7da4-403e-96aa-c0cdf594b845')\"\n",
              "                title=\"Suggest charts\"\n",
              "                style=\"display:none;\">\n",
              "\n",
              "<svg xmlns=\"http://www.w3.org/2000/svg\" height=\"24px\"viewBox=\"0 0 24 24\"\n",
              "     width=\"24px\">\n",
              "    <g>\n",
              "        <path d=\"M19 3H5c-1.1 0-2 .9-2 2v14c0 1.1.9 2 2 2h14c1.1 0 2-.9 2-2V5c0-1.1-.9-2-2-2zM9 17H7v-7h2v7zm4 0h-2V7h2v10zm4 0h-2v-4h2v4z\"/>\n",
              "    </g>\n",
              "</svg>\n",
              "      </button>\n",
              "\n",
              "<style>\n",
              "  .colab-df-quickchart {\n",
              "      --bg-color: #E8F0FE;\n",
              "      --fill-color: #1967D2;\n",
              "      --hover-bg-color: #E2EBFA;\n",
              "      --hover-fill-color: #174EA6;\n",
              "      --disabled-fill-color: #AAA;\n",
              "      --disabled-bg-color: #DDD;\n",
              "  }\n",
              "\n",
              "  [theme=dark] .colab-df-quickchart {\n",
              "      --bg-color: #3B4455;\n",
              "      --fill-color: #D2E3FC;\n",
              "      --hover-bg-color: #434B5C;\n",
              "      --hover-fill-color: #FFFFFF;\n",
              "      --disabled-bg-color: #3B4455;\n",
              "      --disabled-fill-color: #666;\n",
              "  }\n",
              "\n",
              "  .colab-df-quickchart {\n",
              "    background-color: var(--bg-color);\n",
              "    border: none;\n",
              "    border-radius: 50%;\n",
              "    cursor: pointer;\n",
              "    display: none;\n",
              "    fill: var(--fill-color);\n",
              "    height: 32px;\n",
              "    padding: 0;\n",
              "    width: 32px;\n",
              "  }\n",
              "\n",
              "  .colab-df-quickchart:hover {\n",
              "    background-color: var(--hover-bg-color);\n",
              "    box-shadow: 0 1px 2px rgba(60, 64, 67, 0.3), 0 1px 3px 1px rgba(60, 64, 67, 0.15);\n",
              "    fill: var(--button-hover-fill-color);\n",
              "  }\n",
              "\n",
              "  .colab-df-quickchart-complete:disabled,\n",
              "  .colab-df-quickchart-complete:disabled:hover {\n",
              "    background-color: var(--disabled-bg-color);\n",
              "    fill: var(--disabled-fill-color);\n",
              "    box-shadow: none;\n",
              "  }\n",
              "\n",
              "  .colab-df-spinner {\n",
              "    border: 2px solid var(--fill-color);\n",
              "    border-color: transparent;\n",
              "    border-bottom-color: var(--fill-color);\n",
              "    animation:\n",
              "      spin 1s steps(1) infinite;\n",
              "  }\n",
              "\n",
              "  @keyframes spin {\n",
              "    0% {\n",
              "      border-color: transparent;\n",
              "      border-bottom-color: var(--fill-color);\n",
              "      border-left-color: var(--fill-color);\n",
              "    }\n",
              "    20% {\n",
              "      border-color: transparent;\n",
              "      border-left-color: var(--fill-color);\n",
              "      border-top-color: var(--fill-color);\n",
              "    }\n",
              "    30% {\n",
              "      border-color: transparent;\n",
              "      border-left-color: var(--fill-color);\n",
              "      border-top-color: var(--fill-color);\n",
              "      border-right-color: var(--fill-color);\n",
              "    }\n",
              "    40% {\n",
              "      border-color: transparent;\n",
              "      border-right-color: var(--fill-color);\n",
              "      border-top-color: var(--fill-color);\n",
              "    }\n",
              "    60% {\n",
              "      border-color: transparent;\n",
              "      border-right-color: var(--fill-color);\n",
              "    }\n",
              "    80% {\n",
              "      border-color: transparent;\n",
              "      border-right-color: var(--fill-color);\n",
              "      border-bottom-color: var(--fill-color);\n",
              "    }\n",
              "    90% {\n",
              "      border-color: transparent;\n",
              "      border-bottom-color: var(--fill-color);\n",
              "    }\n",
              "  }\n",
              "</style>\n",
              "\n",
              "      <script>\n",
              "        async function quickchart(key) {\n",
              "          const quickchartButtonEl =\n",
              "            document.querySelector('#' + key + ' button');\n",
              "          quickchartButtonEl.disabled = true;  // To prevent multiple clicks.\n",
              "          quickchartButtonEl.classList.add('colab-df-spinner');\n",
              "          try {\n",
              "            const charts = await google.colab.kernel.invokeFunction(\n",
              "                'suggestCharts', [key], {});\n",
              "          } catch (error) {\n",
              "            console.error('Error during call to suggestCharts:', error);\n",
              "          }\n",
              "          quickchartButtonEl.classList.remove('colab-df-spinner');\n",
              "          quickchartButtonEl.classList.add('colab-df-quickchart-complete');\n",
              "        }\n",
              "        (() => {\n",
              "          let quickchartButtonEl =\n",
              "            document.querySelector('#df-58072882-7da4-403e-96aa-c0cdf594b845 button');\n",
              "          quickchartButtonEl.style.display =\n",
              "            google.colab.kernel.accessAllowed ? 'block' : 'none';\n",
              "        })();\n",
              "      </script>\n",
              "    </div>\n",
              "\n",
              "  <div id=\"id_f9e3bdac-f6f4-4516-b2f6-d6ccf9061443\">\n",
              "    <style>\n",
              "      .colab-df-generate {\n",
              "        background-color: #E8F0FE;\n",
              "        border: none;\n",
              "        border-radius: 50%;\n",
              "        cursor: pointer;\n",
              "        display: none;\n",
              "        fill: #1967D2;\n",
              "        height: 32px;\n",
              "        padding: 0 0 0 0;\n",
              "        width: 32px;\n",
              "      }\n",
              "\n",
              "      .colab-df-generate:hover {\n",
              "        background-color: #E2EBFA;\n",
              "        box-shadow: 0px 1px 2px rgba(60, 64, 67, 0.3), 0px 1px 3px 1px rgba(60, 64, 67, 0.15);\n",
              "        fill: #174EA6;\n",
              "      }\n",
              "\n",
              "      [theme=dark] .colab-df-generate {\n",
              "        background-color: #3B4455;\n",
              "        fill: #D2E3FC;\n",
              "      }\n",
              "\n",
              "      [theme=dark] .colab-df-generate:hover {\n",
              "        background-color: #434B5C;\n",
              "        box-shadow: 0px 1px 3px 1px rgba(0, 0, 0, 0.15);\n",
              "        filter: drop-shadow(0px 1px 2px rgba(0, 0, 0, 0.3));\n",
              "        fill: #FFFFFF;\n",
              "      }\n",
              "    </style>\n",
              "    <button class=\"colab-df-generate\" onclick=\"generateWithVariable('results_df')\"\n",
              "            title=\"Generate code using this dataframe.\"\n",
              "            style=\"display:none;\">\n",
              "\n",
              "  <svg xmlns=\"http://www.w3.org/2000/svg\" height=\"24px\"viewBox=\"0 0 24 24\"\n",
              "       width=\"24px\">\n",
              "    <path d=\"M7,19H8.4L18.45,9,17,7.55,7,17.6ZM5,21V16.75L18.45,3.32a2,2,0,0,1,2.83,0l1.4,1.43a1.91,1.91,0,0,1,.58,1.4,1.91,1.91,0,0,1-.58,1.4L9.25,21ZM18.45,9,17,7.55Zm-12,3A5.31,5.31,0,0,0,4.9,8.1,5.31,5.31,0,0,0,1,6.5,5.31,5.31,0,0,0,4.9,4.9,5.31,5.31,0,0,0,6.5,1,5.31,5.31,0,0,0,8.1,4.9,5.31,5.31,0,0,0,12,6.5,5.46,5.46,0,0,0,6.5,12Z\"/>\n",
              "  </svg>\n",
              "    </button>\n",
              "    <script>\n",
              "      (() => {\n",
              "      const buttonEl =\n",
              "        document.querySelector('#id_f9e3bdac-f6f4-4516-b2f6-d6ccf9061443 button.colab-df-generate');\n",
              "      buttonEl.style.display =\n",
              "        google.colab.kernel.accessAllowed ? 'block' : 'none';\n",
              "\n",
              "      buttonEl.onclick = () => {\n",
              "        google.colab.notebook.generateWithVariable('results_df');\n",
              "      }\n",
              "      })();\n",
              "    </script>\n",
              "  </div>\n",
              "\n",
              "    </div>\n",
              "  </div>\n"
            ],
            "application/vnd.google.colaboratory.intrinsic+json": {
              "type": "dataframe",
              "variable_name": "results_df",
              "summary": "{\n  \"name\": \"results_df\",\n  \"rows\": 2,\n  \"fields\": [\n    {\n      \"column\": \"64 units, relu\",\n      \"properties\": {\n        \"dtype\": \"number\",\n        \"std\": 0.07297339068655001,\n        \"min\": 0.867900013923645,\n        \"max\": 0.9710999727249146,\n        \"num_unique_values\": 2,\n        \"samples\": [\n          0.867900013923645,\n          0.9710999727249146\n        ],\n        \"semantic_type\": \"\",\n        \"description\": \"\"\n      }\n    },\n    {\n      \"column\": \"64 units, tanh\",\n      \"properties\": {\n        \"dtype\": \"number\",\n        \"std\": 0.06802366479743062,\n        \"min\": 0.8707000017166138,\n        \"max\": 0.9668999910354614,\n        \"num_unique_values\": 2,\n        \"samples\": [\n          0.8707000017166138,\n          0.9668999910354614\n        ],\n        \"semantic_type\": \"\",\n        \"description\": \"\"\n      }\n    },\n    {\n      \"column\": \"128 units, relu\",\n      \"properties\": {\n        \"dtype\": \"number\",\n        \"std\": 0.06795298453247785,\n        \"min\": 0.8812999725341797,\n        \"max\": 0.977400004863739,\n        \"num_unique_values\": 2,\n        \"samples\": [\n          0.8812999725341797,\n          0.977400004863739\n        ],\n        \"semantic_type\": \"\",\n        \"description\": \"\"\n      }\n    },\n    {\n      \"column\": \"128 units, tanh\",\n      \"properties\": {\n        \"dtype\": \"number\",\n        \"std\": 0.07516544827760162,\n        \"min\": 0.8708999752998352,\n        \"max\": 0.9771999716758728,\n        \"num_unique_values\": 2,\n        \"samples\": [\n          0.8708999752998352,\n          0.9771999716758728\n        ],\n        \"semantic_type\": \"\",\n        \"description\": \"\"\n      }\n    }\n  ]\n}"
            }
          },
          "metadata": {}
        }
      ]
    },
    {
      "cell_type": "markdown",
      "metadata": {
        "id": "0fedbad0"
      },
      "source": [
        "### Part 5: Observations and Analysis\n",
        "\n",
        "Answer the following questions based on the experiment results.\n",
        "\n",
        "1. Which dataset was easier to classify? Why?\n",
        "2. How did increasing the number of hidden units affect accuracy?\n",
        "3. What effect did the activation function have on performance?\n",
        "4. What challenges did you face during the lab?"
      ]
    },
    {
      "cell_type": "markdown",
      "source": [
        "**Which dataset was easier to classify? Why?**\n",
        "\n",
        "The MNIST dataset was easier to classify. This is because the test accuracies for all hyperparameter configurations on MNIST (ranging from approximately 0.970 to 0.977) are significantly higher than the test accuracies for the Fashion MNIST dataset (ranging from approximately 0.858 to 0.874). The MNIST dataset consists of images of handwritten digits, which are generally simpler and have less variation than the images of clothing items in the Fashion MNIST dataset, making them easier for a simple neural network to distinguish.\n",
        "\n",
        "**How did increasing the number of hidden units affect accuracy?**\n",
        "\n",
        "Increasing the number of neurons in the hidden layer from 64 to 128 had a small, generally positive effect on accuracy, particularly for the Fashion MNIST dataset.\n",
        "For MNIST, the accuracy with 128 units was slightly higher than with 64 units for both activation functions (0.9771 vs 0.9696 for tanh, and identical at 0.9761 for relu).\n",
        "For Fashion MNIST, increasing to 128 units consistently resulted in higher accuracy compared to 64 units (0.8709 vs 0.8578 for relu, and 0.8739 vs 0.8723 for tanh). This suggests that the increased capacity of the model with more neurons allowed it to learn slightly more complex patterns, which was more beneficial for the more challenging Fashion MNIST dataset.\n",
        "\n",
        "**What effect did the activation function have on performance?**\n",
        "\n",
        "The effect of the activation function varied between the datasets.\n",
        "For MNIST, the 'relu' activation generally performed slightly better or the same as the 'tanh' activation.\n",
        "For Fashion MNIST, the 'tanh' activation generally performed slightly better than the 'relu' activation. This indicates that the choice of activation function can have a subtle impact on performance, and the best choice might depend on the specific dataset.\n",
        "\n",
        "**What challenges did you face during the lab?**\n",
        "\n",
        "It took me quite some time to understand the data and imagine it in the form of arrays. The most challenging part was to understand how information flows in the neural network. Understanding flattening the image data to 1D and then processing it using a certain number of neurons, and still maintaining the information in the output to predict the correct class was challenging but quite interesting. I have a better understanding of implementing a neural network after this assignment."
      ],
      "metadata": {
        "id": "MRsV6zmh_ZPq"
      }
    }
  ]
}