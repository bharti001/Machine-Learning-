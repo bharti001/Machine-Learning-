{
  "nbformat": 4,
  "nbformat_minor": 0,
  "metadata": {
    "colab": {
      "provenance": [],
      "toc_visible": true,
      "authorship_tag": "ABX9TyOH+r/yCzOBACDX2GP/Ab35",
      "include_colab_link": true
    },
    "kernelspec": {
      "name": "python3",
      "display_name": "Python 3"
    },
    "language_info": {
      "name": "python"
    }
  },
  "cells": [
    {
      "cell_type": "markdown",
      "metadata": {
        "id": "view-in-github",
        "colab_type": "text"
      },
      "source": [
        "<a href=\"https://colab.research.google.com/github/bharti001/Machine-Learning-/blob/main/Assignment_04_bharti_singal.ipynb\" target=\"_parent\"><img src=\"https://colab.research.google.com/assets/colab-badge.svg\" alt=\"Open In Colab\"/></a>"
      ]
    },
    {
      "cell_type": "markdown",
      "source": [
        "Part 1: Data Preparation(10)\n",
        "1. Load the MNIST digits dataset (CSV file or directly from\n",
        "sklearn.datasets.load_digits.ape attribute.\n",
        "2. Visualize 5 sample images from the dataset using matplotlib.pyplot.imshow.\n",
        "3. Split the dataset into 80% train and 20% test sets using train_test_split with a\n",
        "random_state=42.\n",
        "4. Normalize the pixel values to be in the range [0,1]."
      ],
      "metadata": {
        "id": "m5sSNHqdW2dp"
      }
    },
    {
      "cell_type": "code",
      "metadata": {
        "colab": {
          "base_uri": "https://localhost:8080/",
          "height": 244
        },
        "id": "4da385d7",
        "outputId": "1a4771fd-059c-405f-974c-19565a30abc5"
      },
      "source": [
        "# Load the MNIST digits dataset\n",
        "from sklearn.datasets import load_digits\n",
        "import matplotlib.pyplot as plt\n",
        "from sklearn.model_selection import train_test_split\n",
        "\n",
        "digits = load_digits()\n",
        "X = digits.data\n",
        "y = digits.target\n",
        "\n",
        "# Visualize 5 sample images\n",
        "fig, axes = plt.subplots(1, 5, figsize=(10, 3))\n",
        "for i, ax in enumerate(axes):\n",
        "    ax.imshow(X[i].reshape(8, 8), cmap='gray')\n",
        "    ax.set_title(f'Digit: {y[i]}')\n",
        "    ax.axis('off')\n",
        "plt.show()\n",
        "\n",
        "# Split the dataset into 80% train and 20% test sets\n",
        "X_train, X_test, y_train, y_test = train_test_split(X, y, test_size=0.2, random_state=42)\n",
        "\n",
        "# Normalize the pixel values\n",
        "X_train_normalized = X_train / 255.0\n",
        "X_test_normalized = X_test / 255.0\n",
        "\n",
        "print(\"Data loading and preprocessing complete.\")\n",
        "print(f\"Training data shape: {X_train_normalized.shape}\")\n",
        "print(f\"Testing data shape: {X_test_normalized.shape}\")"
      ],
      "execution_count": null,
      "outputs": [
        {
          "output_type": "display_data",
          "data": {
            "text/plain": [
              "<Figure size 1000x300 with 5 Axes>"
            ],
            "image/png": "[encoded data removed]"
          },
          "metadata": {}
        },
        {
          "output_type": "stream",
          "name": "stdout",
          "text": [
            "Data loading and preprocessing complete.\n",
            "Training data shape: (1437, 64)\n",
            "Testing data shape: (360, 64)\n"
          ]
        }
      ]
    },
    {
      "cell_type": "markdown",
      "source": [
        "Part 2: Logistic Regression on MNIST (40)\n",
        "1. Train a Logistic Regression classifier on the training data. Use max_iter=1000.\n",
        "2. Evaluate the model on the test set using:\n",
        "a. Accuracy Score\n",
        "b. Log Loss (optional- use predict_proba and log_loss)\n",
        "c. Confusion Matrix (optional- use ConfusionMatrixDisplay)\n",
        "3. Identify 2 digits where the classifier performs poorly. Briefly explain why this may\n",
        "happen.\n",
        "4. Plot the confusion matrix and annotate misclassifications clearly."
      ],
      "metadata": {
        "id": "L0rdm_57W57c"
      }
    },
    {
      "cell_type": "code",
      "source": [
        "from sklearn.linear_model import LogisticRegression\n",
        "from sklearn.metrics import accuracy_score, log_loss, confusion_matrix, ConfusionMatrixDisplay\n",
        "import numpy as np\n",
        "from sklearn.datasets import load_digits # Re-import load_digits to ensure digits object is available\n",
        "\n",
        "# Load the digits data again to ensure it's accessible\n",
        "digits = load_digits()\n",
        "X = digits.data # Also load X and y again to ensure they are in sync\n",
        "y = digits.target\n",
        "\n",
        "# Train a Logistic Regression classifier\n",
        "logistic_regression_model = LogisticRegression(max_iter=1000)\n",
        "logistic_regression_model.fit(X_train_normalized, y_train)\n",
        "\n",
        "# Evaluate the model on the test set\n",
        "y_pred = logistic_regression_model.predict(X_test_normalized)\n",
        "\n",
        "# Accuracy Score\n",
        "accuracy = accuracy_score(y_test, y_pred)\n",
        "print(f\"Accuracy Score: {accuracy:.4f}\")\n",
        "\n",
        "# Log Loss\n",
        "try:\n",
        "    y_pred_proba = logistic_regression_model.predict_proba(X_test_normalized)\n",
        "    logloss = log_loss(y_test, y_pred_proba)\n",
        "    print(f\"Log Loss: {logloss:.4f}\")\n",
        "except AttributeError:\n",
        "    print(\"Log Loss not available for this model.\")\n",
        "\n",
        "\n",
        "# Confusion Matrix\n",
        "cm = confusion_matrix(y_test, y_pred)\n",
        "print(\"\\nConfusion Matrix:\")\n",
        "print(cm)\n",
        "\n",
        "# Identify 2 digits where the classifier performs poorly.\n",
        "misclassifications_per_digit = np.sum(cm, axis=1) - np.diag(cm)\n",
        "print(\"\\nMisclassifications per digit:\")\n",
        "print(misclassifications_per_digit)\n",
        "\n",
        "# Find the indices of the two digits with the highest number of misclassifications\n",
        "poorly_performing_digits_indices = np.argsort(misclassifications_per_digit)[-2:]\n",
        "poorly_performing_digits = digits.target_names[poorly_performing_digits_indices]\n",
        "\n",
        "print(f\"\\nTwo digits where the classifier performs poorly: {poorly_performing_digits}\")\n",
        "print(\"Misclassifications\")\n",
        "# Analyze the confusion matrix and common misclassifications to provide an explanation\n",
        "for i in range(len(poorly_performing_digits_indices)):\n",
        "    digit_index = poorly_performing_digits_indices[i]\n",
        "    cm_row = cm[digit_index, :].copy() # Using a copy to avoid modifying the original cm\n",
        "    cm_row[digit_index] = 0 # Setting the diagonal element to 0 to exclude correct classifications\n",
        "    most_confused_with_index = np.argmax(cm_row)\n",
        "    most_confused_with_digit_name = digits.target_names[most_confused_with_index]\n",
        "    print(f\"- Digit {digits.target_names[digit_index]} is often misclassified as {most_confused_with_digit_name} due to visual similarity.\")\n",
        "    print(cm_row)\n",
        "\n",
        "#this code is extra as I was trying to crosscheck\n",
        "## Find which digit '8' is most confused with\n",
        "#try:\n",
        "    # Find the index for digit '8'\n",
        "    #index_of_digit_8 = np.where(digits.target_names.astype(str) == '8')[0][0] # Use .astype(str) for robust comparison\n",
        "\n",
        "    # Get the confusion matrix row for digit '8'\n",
        "    #cm_row_digit_8 = cm[index_of_digit_8, :].copy() # Use a copy to avoid modifying the original cm\n",
        "\n",
        "    # Set the diagonal element to 0 to exclude correct classifications\n",
        "    #cm_row_digit_8[index_of_digit_8] = 0\n",
        "\n",
        "    # Find the index of the maximum value in the modified row\n",
        "    #most_confused_with_index = np.argmax(cm_row_digit_8)\n",
        "    #most_confused_with_digit = digits.target_names[most_confused_with_index]\n",
        "\n",
        "    #print(f\"\\nDigit 8 is most often confused with digit: {most_confused_with_digit}\")\n",
        "\n",
        "#except IndexError:\n",
        "    #print(\"\\nCould not find digit '8' in the target names or an error occurred while processing its confusion matrix row.\")\n",
        "\n",
        "\n",
        "# Plot the confusion matrix\n",
        "disp = ConfusionMatrixDisplay(confusion_matrix=cm, display_labels=digits.target_names)\n",
        "disp.plot(cmap=plt.cm.Blues)\n",
        "plt.title('Confusion Matrix')\n",
        "plt.show()"
      ],
      "metadata": {
        "colab": {
          "base_uri": "https://localhost:8080/",
          "height": 889
        },
        "id": "JGtKquOYW5m8",
        "outputId": "58af7f73-a85e-45cd-e3d4-1f7666d4f022"
      },
      "execution_count": null,
      "outputs": [
        {
          "output_type": "stream",
          "name": "stdout",
          "text": [
            "Accuracy Score: 0.8944\n",
            "Log Loss: 1.5575\n",
            "\n",
            "Confusion Matrix:\n",
            "[[33  0  0  0  0  0  0  0  0  0]\n",
            " [ 0 23  3  0  0  0  0  0  0  2]\n",
            " [ 0  1 30  1  0  0  0  1  0  0]\n",
            " [ 0  0  0 33  0  0  0  1  0  0]\n",
            " [ 0  2  0  0 42  0  0  2  0  0]\n",
            " [ 0  0  0  0  0 39  1  0  0  7]\n",
            " [ 1  0  0  0  0  0 34  0  0  0]\n",
            " [ 0  0  0  0  0  0  0 34  0  0]\n",
            " [ 0  6  0  0  0  1  0  1 20  2]\n",
            " [ 0  1  0  0  1  1  0  3  0 34]]\n",
            "\n",
            "Misclassifications per digit:\n",
            "[ 0  5  3  1  4  8  1  0 10  6]\n",
            "\n",
            "Two digits where the classifier performs poorly: [5 8]\n",
            "Misclassifications\n",
            "- Digit 5 is often misclassified as 9 due to visual similarity.\n",
            "[0 0 0 0 0 0 1 0 0 7]\n",
            "- Digit 8 is often misclassified as 1 due to visual similarity.\n",
            "[0 6 0 0 0 1 0 1 0 2]\n"
          ]
        },
        {
          "output_type": "display_data",
          "data": {
            "text/plain": [
              "<Figure size 640x480 with 2 Axes>"
            ],
            "image/png": "[encoded data removed]"
          },
          "metadata": {}
        }
      ]
    },
    {
      "cell_type": "markdown",
      "source": [
        "The brief explanation is given in the code above."
      ],
      "metadata": {
        "id": "lDKMWLm1b-de"
      }
    },
    {
      "cell_type": "markdown",
      "source": [
        "Part 3: Comparing Models (25)\n",
        "1. Train a k-Nearest Neighbors classifier (with k=5) and a Random Forest classifier (with\n",
        "n_estimators=100) on the same training set.\n",
        "2. Report test accuracy for all three models: Logistic Regression, k-NN, and Random\n",
        "Forest.\n",
        "3. Create a bar chart to compare the test accuracies of all three classifiers.\n",
        "4. Based on performance and interpretability, which model would you use in a real-world\n",
        "setting? Justify your answer in 3–5 lines."
      ],
      "metadata": {
        "id": "SGcdEjRQW_CZ"
      }
    },
    {
      "cell_type": "code",
      "source": [
        "from sklearn.neighbors import KNeighborsClassifier\n",
        "from sklearn.ensemble import RandomForestClassifier\n",
        "import matplotlib.pyplot as plt\n",
        "\n",
        "# 1. Train a k-Nearest Neighbors classifier (with k=5)\n",
        "knn_model = KNeighborsClassifier(n_neighbors=5)\n",
        "knn_model.fit(X_train_normalized, y_train)\n",
        "\n",
        "# Train a Random Forest classifier (with n_estimators=100)\n",
        "rf_model = RandomForestClassifier(n_estimators=100, random_state=42)\n",
        "rf_model.fit(X_train_normalized, y_train)\n",
        "\n",
        "# 2. Report test accuracy for all three models\n",
        "# Assuming logistic_regression_model is available from a above cell\n",
        "lr_accuracy = logistic_regression_model.score(X_test_normalized, y_test)\n",
        "knn_accuracy = knn_model.score(X_test_normalized, y_test)\n",
        "rf_accuracy = rf_model.score(X_test_normalized, y_test)\n",
        "\n",
        "print(f\"Logistic Regression Test Accuracy: {lr_accuracy:.4f}\")\n",
        "print(f\"k-NN Test Accuracy: {knn_accuracy:.4f}\")\n",
        "print(f\"Random Forest Test Accuracy: {rf_accuracy:.4f}\")\n",
        "\n",
        "# 3. Create a bar chart to compare the test accuracies\n",
        "models = ['Logistic Regression', 'k-NN', 'Random Forest']\n",
        "accuracies = [lr_accuracy, knn_accuracy, rf_accuracy]\n",
        "\n",
        "plt.figure(figsize=(8, 5))\n",
        "plt.bar(models, accuracies, color=['blue', 'green', 'red'])\n",
        "plt.ylabel('Accuracy')\n",
        "plt.title('Comparison of Test Accuracies for Different Classifiers')\n",
        "plt.ylim(0.8, 1.0) # Set y-axis limit for better comparison\n",
        "plt.show()"
      ],
      "metadata": {
        "colab": {
          "base_uri": "https://localhost:8080/",
          "height": 520
        },
        "id": "qt95j7QxW-xK",
        "outputId": "1cbc8770-630d-4aa0-e632-93422d05a1c4"
      },
      "execution_count": null,
      "outputs": [
        {
          "output_type": "stream",
          "name": "stdout",
          "text": [
            "Logistic Regression Test Accuracy: 0.8944\n",
            "k-NN Test Accuracy: 0.9861\n",
            "Random Forest Test Accuracy: 0.9722\n"
          ]
        },
        {
          "output_type": "display_data",
          "data": {
            "text/plain": [
              "<Figure size 800x500 with 1 Axes>"
            ],
            "image/png": "[encoded data removed]"
          },
          "metadata": {}
        }
      ]
    },
    {
      "cell_type": "markdown",
      "source": [
        "Based on the performance, I would prefer using K-NN or random forest models as they have significant accuracy over logistic regression on this dataset. Even if logistic regression is more interpretable due to its linear nature, the performance gain from the other two models outweighs the logistic regression. Between K-NN and random forest, random forest will be preferred for its robustness and ability to handle complex relationships, even though K-NN has performed better with this test data.  "
      ],
      "metadata": {
        "id": "SGuAKQ59dUyr"
      }
    },
    {
      "cell_type": "markdown",
      "source": [
        "Part 4: Applied Analysis and Improvement (25)\n",
        "1. Softmax Probability Inspection\n",
        "Pick 5 test samples that were misclassified by Logistic Regression. For each one:\n",
        "a. Print the true label and predicted label.\n",
        "b. Print the full softmax probability vector (from predict_proba) and explain why\n",
        "the model may have made the wrong decision.\n",
        "2. Class Imbalance Simulation\n",
        "a. Manually downsample class '1' to keep only 30% of its original samples in the\n",
        "training set.\n",
        "b. Retrain the Logistic Regression model on this modified dataset.\n",
        "c. Report the new accuracy and log loss.\n",
        "d. Comment: How did the performance change, and what does that tell you about\n",
        "class imbalance?\n"
      ],
      "metadata": {
        "id": "K0VjrX3zXDkg"
      }
    },
    {
      "cell_type": "code",
      "metadata": {
        "colab": {
          "base_uri": "https://localhost:8080/"
        },
        "id": "85316d8c",
        "outputId": "32a90d9d-441a-446f-c318-ef87b7c8d157"
      },
      "source": [
        "# Identify misclassified samples\n",
        "misclassified_indices = np.where(y_test != y_pred)[0]\n",
        "\n",
        "# Select the first 5 misclassified sample indices\n",
        "selected_misclassified_indices = misclassified_indices[:5]\n",
        "\n",
        "# Iterate through the selected indices and print information\n",
        "for i in selected_misclassified_indices:\n",
        "    true_label = y_test[i]\n",
        "    predicted_label = y_pred[i]\n",
        "    probability_vector = logistic_regression_model.predict_proba(X_test_normalized[i].reshape(1, -1))[0]\n",
        "\n",
        "    print(f\"Sample Index: {i}\")\n",
        "    print(f\"True Label: {true_label}\")\n",
        "    print(f\"Predicted Label: {predicted_label}\")\n",
        "    print(f\"Softmax Probability Vector: {probability_vector}\")"
      ],
      "execution_count": null,
      "outputs": [
        {
          "output_type": "stream",
          "name": "stdout",
          "text": [
            "Sample Index: 5\n",
            "True Label: 1\n",
            "Predicted Label: 2\n",
            "Softmax Probability Vector: [0.05714291 0.12886336 0.20619588 0.06825456 0.06318903 0.13002653\n",
            " 0.12890559 0.04374642 0.10176717 0.07190854]\n",
            "Sample Index: 11\n",
            "True Label: 9\n",
            "Predicted Label: 4\n",
            "Softmax Probability Vector: [0.08310369 0.12021219 0.03932023 0.07256711 0.1493936  0.0901284\n",
            " 0.09343851 0.12294791 0.09930364 0.12958472]\n",
            "Sample Index: 18\n",
            "True Label: 8\n",
            "Predicted Label: 9\n",
            "Softmax Probability Vector: [0.06853142 0.09970294 0.08500825 0.1254697  0.06246344 0.09497602\n",
            " 0.09283829 0.10295717 0.13034345 0.13770933]\n",
            "Sample Index: 71\n",
            "True Label: 5\n",
            "Predicted Label: 9\n",
            "Softmax Probability Vector: [0.0913553  0.06927644 0.10749291 0.13785751 0.05544727 0.11631703\n",
            " 0.11419301 0.05877227 0.08199896 0.16728929]\n",
            "Sample Index: 73\n",
            "True Label: 4\n",
            "Predicted Label: 7\n",
            "Softmax Probability Vector: [0.0886322  0.09055594 0.07940984 0.05114787 0.1461204  0.08531985\n",
            " 0.09630278 0.18287579 0.09961748 0.08001785]\n"
          ]
        }
      ]
    },
    {
      "cell_type": "markdown",
      "source": [
        "Explanation in terms of first sample : The model predicted class 2 with a probability of 0.2062. The true class 1 had a probability of 0.1289. The model likely made the wrong decision because the probability for the predicted class was the highest, even though the probability for the true class or another class (e.g., 5 with prob 0.1300) might have been relatively high, indicating visual similarity or ambiguity in the image.\n",
        "\n",
        "This was same for all other missclassified samples."
      ],
      "metadata": {
        "id": "2wdWY9-YbDqD"
      }
    },
    {
      "cell_type": "code",
      "metadata": {
        "colab": {
          "base_uri": "https://localhost:8080/"
        },
        "id": "9bb196c1",
        "outputId": "6a2af3a4-b918-418a-ef37-31119bfaae7c"
      },
      "source": [
        "# Find the indices of all training samples where the true label is '1'.\n",
        "indices_class_1 = np.where(y_train == 1)[0]\n",
        "\n",
        "# Calculate the number of samples to keep for class '1' by taking 30% of its original samples.\n",
        "num_samples_to_keep_class_1 = int(len(indices_class_1) * 0.3)\n",
        "\n",
        "# Randomly select the indices of the samples to keep for class '1'.\n",
        "np.random.seed(42) # for reproducibility\n",
        "indices_to_keep_class_1 = np.random.choice(indices_class_1, size=num_samples_to_keep_class_1, replace=False)\n",
        "\n",
        "# Create a mask or a list of indices to include in the new training set.\n",
        "# This includes all samples NOT from class '1', plus the selected samples from class '1'.\n",
        "indices_other_classes = np.where(y_train != 1)[0]\n",
        "indices_to_keep = np.concatenate((indices_other_classes, indices_to_keep_class_1))\n",
        "\n",
        "# Create the new downsampled training data.\n",
        "X_train_downsampled = X_train_normalized[indices_to_keep]\n",
        "y_train_downsampled = y_train[indices_to_keep]\n",
        "\n",
        "print(f\"Original training data shape: {X_train_normalized.shape}\")\n",
        "print(f\"Downsampled training data shape: {X_train_downsampled.shape}\")\n",
        "\n",
        "# Instantiate a new LogisticRegression model.\n",
        "logistic_regression_model_downsampled = LogisticRegression(max_iter=1000)\n",
        "\n",
        "# Train the new Logistic Regression model on the downsampled training data.\n",
        "logistic_regression_model_downsampled.fit(X_train_downsampled, y_train_downsampled)\n",
        "\n",
        "# Predict the labels and probabilities on the original test set.\n",
        "y_pred_downsampled = logistic_regression_model_downsampled.predict(X_test_normalized)\n",
        "y_pred_proba_downsampled = logistic_regression_model_downsampled.predict_proba(X_test_normalized)\n",
        "\n",
        "# Calculate and print the accuracy score.\n",
        "accuracy_downsampled = accuracy_score(y_test, y_pred_downsampled)\n",
        "print(f\"\\nAccuracy Score (Downsampled Training Data): {accuracy_downsampled:.4f}\")\n",
        "\n",
        "# Calculate and print the log loss.\n",
        "logloss_downsampled = log_loss(y_test, y_pred_proba_downsampled)\n",
        "print(f\"Log Loss (Downsampled Training Data): {logloss_downsampled:.4f}\")\n"
      ],
      "execution_count": null,
      "outputs": [
        {
          "output_type": "stream",
          "name": "stdout",
          "text": [
            "Original training data shape: (1437, 64)\n",
            "Downsampled training data shape: (1329, 64)\n",
            "\n",
            "Accuracy Score (Downsampled Training Data): 0.8472\n",
            "Log Loss (Downsampled Training Data): 1.6097\n"
          ]
        }
      ]
    },
    {
      "cell_type": "markdown",
      "source": [
        "Comment on performance change:\n",
        "Compared to the original model (Accuracy: 0.8944, Log Loss: 1.5575), training on the downsampled data resulted in a lower accuracy (0.8472) and a higher log loss (1.6097). This indicates that the model's ability to correctly classify digits, particularly class '1', has decreased when the training data for that class is significantly reduced. This demonstrates that class imbalance, where one class has significantly fewer samples than others, can negatively impact model performance, especially for the underrepresented class, as the model has less data to learn its characteristics.\n",
        "The performance degradation observed after downsampling highlights the need to address class imbalance when training models, potentially using techniques like oversampling, undersampling (more carefully), or using class weights.\n",
        "Analyzing the specific characteristics of the misclassified images for class '1' could provide insights into the visual features that the model struggles with when the training data for this class is limited."
      ],
      "metadata": {
        "id": "2tM76G_0c7r4"
      }
    }
  ]
}